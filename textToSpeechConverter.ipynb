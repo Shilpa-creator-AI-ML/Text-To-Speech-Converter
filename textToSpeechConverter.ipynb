{
 "cells": [
  {
   "cell_type": "code",
   "execution_count": null,
   "id": "14d38894-870c-4156-a613-2e3f7dc933c2",
   "metadata": {},
   "outputs": [],
   "source": [
    "import tkinter as tk\n",
    "from tkinter import *\n",
    "from tkinter import messagebox\n",
    "from tkinter.ttk import Combobox\n",
    "import pyttsx3\n",
    "import os"
   ]
  },
  {
   "cell_type": "code",
   "execution_count": null,
   "id": "13b5043f-c2b3-4168-a3f4-1ecacbbfd1e4",
   "metadata": {},
   "outputs": [],
   "source": [
    "root = Tk()\n",
    "root.title(\"Simplilearn Text to Speech Converter\")\n",
    "root.geometry(\"1000x600+200+80\")\n",
    "root.configure(bg=\"#F7AC40\")\n",
    "root.resizable(False, False)"
   ]
  },
  {
   "cell_type": "code",
   "execution_count": null,
   "id": "0d121494-f9cd-42f6-9e2e-b62142aa5462",
   "metadata": {},
   "outputs": [],
   "source": [
    "try:\n",
    "    logo_image = PhotoImage(file=\"C:/Users/hp/Pictures/speech.png\")  # use .png only\n",
    "    root.iconphoto(False, logo_image)\n",
    "except tk.TclError:\n",
    "    messagebox.showwarning(\"Image Load Failed\", \"Logo image not found or not in PNG format.\\nContinuing without it.\")"
   ]
  },
  {
   "cell_type": "code",
   "execution_count": null,
   "id": "f9c11263-9d34-4777-bc4c-b37b2782d8cf",
   "metadata": {},
   "outputs": [],
   "source": [
    "upper_frame = Frame(root, bg=\"#14A70D\", width=1000, height=100)\n",
    "upper_frame.place(x=0, y=0)\n",
    "Label(upper_frame, text=\"Text to Speech Converter\", font=\"TimesNewRoman 30 bold\", bg=\"#14A70D\", fg=\"white\").place(x=250, y=30)"
   ]
  },
  {
   "cell_type": "code",
   "execution_count": null,
   "id": "62aa3067-6bfc-484f-a243-4b548048d48b",
   "metadata": {},
   "outputs": [],
   "source": [
    "text_box = Text(root, font=\"Calibri 18\", bg=\"white\", relief=GROOVE, wrap=WORD, bd=0)\n",
    "text_box.place(x=200, y=130, width=600, height=200)"
   ]
  },
  {
   "cell_type": "code",
   "execution_count": null,
   "id": "3cd38efb-b41e-4dbf-83f3-36abfd730eae",
   "metadata": {},
   "outputs": [],
   "source": [
    "Label(root, text=\"Select Voice\", font=\"TimesNewRoman 15 bold\", bg=\"#F7AC40\", fg=\"black\").place(x=250, y=360)\n",
    "gender_box = Combobox(root, values=[\"Male\", \"Female\"], font=\"Roboto 12\", state='readonly', width=12)\n",
    "gender_box.place(x=250, y=390)\n",
    "gender_box.set(\"Male\")\n",
    "\n",
    "Label(root, text=\"Select Speed\", font=\"TimesNewRoman 15 bold\", bg=\"#F7AC40\", fg=\"black\").place(x=450, y=360)\n",
    "speed_box = Combobox(root, values=[\"Fast\", \"Medium\", \"Slow\"], font=\"Roboto 12\", state='readonly', width=12)\n",
    "speed_box.place(x=450, y=390)\n",
    "speed_box.set(\"Medium\")"
   ]
  },
  {
   "cell_type": "code",
   "execution_count": null,
   "id": "e8b2daaf-2a07-40f2-bc82-1e4b651424f1",
   "metadata": {},
   "outputs": [],
   "source": [
    "def speak():\n",
    "    text = text_box.get(1.0, END).strip()\n",
    "    gender = gender_box.get()\n",
    "    speed = speed_box.get()\n",
    "    \n",
    "    if not text:\n",
    "        messagebox.showerror(\"Input Error\", \"Please enter some text to convert.\")\n",
    "        return\n",
    "    \n",
    "    tts = pyttsx3.init()\n",
    "    voices = tts.getProperty('voices')\n",
    "    \n",
    "    if gender == 'Male':\n",
    "        tts.setProperty('voice', voices[0].id)\n",
    "    else:\n",
    "        tts.setProperty('voice', voices[1].id)\n",
    "    \n",
    "    if speed == 'Fast':\n",
    "        tts.setProperty('rate', 250)\n",
    "    elif speed == 'Medium':\n",
    "        tts.setProperty('rate', 150)\n",
    "    else:\n",
    "        tts.setProperty('rate', 60)\n",
    "    \n",
    "    tts.say(text)\n",
    "    tts.runAndWait()"
   ]
  },
  {
   "cell_type": "code",
   "execution_count": null,
   "id": "61b7930d-e4af-4278-8d92-159c063cd122",
   "metadata": {},
   "outputs": [],
   "source": [
    "Button(root, text=\"Speak\", command=speak, font=\"TimesNewRoman 18 bold\", bg=\"#14A70D\", fg=\"white\", padx=20, pady=10).place(x=400, y=460)"
   ]
  },
  {
   "cell_type": "code",
   "execution_count": null,
   "id": "f2bc1b88-c3de-44e4-aa83-4516eea66965",
   "metadata": {},
   "outputs": [],
   "source": [
    "root.mainloop()"
   ]
  }
 ],
 "metadata": {
  "kernelspec": {
   "display_name": "Python 3 (ipykernel)",
   "language": "python",
   "name": "python3"
  },
  "language_info": {
   "codemirror_mode": {
    "name": "ipython",
    "version": 3
   },
   "file_extension": ".py",
   "mimetype": "text/x-python",
   "name": "python",
   "nbconvert_exporter": "python",
   "pygments_lexer": "ipython3",
   "version": "3.10.0"
  }
 },
 "nbformat": 4,
 "nbformat_minor": 5
}
